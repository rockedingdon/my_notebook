{
 "cells": [
  {
   "cell_type": "markdown",
   "id": "387d1c6d-0cdb-4828-ba47-5868f4c1daa1",
   "metadata": {},
   "source": [
    "# Data Science Tools and Ecosystem"
   ]
  },
  {
   "cell_type": "markdown",
   "id": "c63f21f3-138e-43c2-9def-2cff250ced79",
   "metadata": {},
   "source": [
    "In this notebook, Data Science Tools and Ecosystems are summarized."
   ]
  },
  {
   "cell_type": "markdown",
   "id": "77256e7d-545d-4cbf-b630-701d1ab5280b",
   "metadata": {},
   "source": [
    "**Objectives**:\n",
    "* List of popular languages for Data Science\n",
    "* List of commonly used libraries from Data Scientists\n",
    "* List of Data Science Tools as Development Environment\n",
    "* Examples of arithmetic expression in Python"
   ]
  },
  {
   "cell_type": "markdown",
   "id": "fce4b14c-5169-4e6a-a4c4-8e06452cc7fc",
   "metadata": {},
   "source": [
    "Some of the popular languages that Data Scientists use are:\n",
    "1. Python\n",
    "2. R\n",
    "3. SQL\n",
    "4. Julia\n",
    "5. Java\n",
    "6. Java Script\n",
    "7. Scala\n",
    "8. C++"
   ]
  },
  {
   "cell_type": "markdown",
   "id": "9f156eb7-5a3d-43fd-9629-89c678e2d63a",
   "metadata": {},
   "source": [
    "Some of the commonly used libraries used by Data Scientists include:\n",
    "1. Matplotlib\n",
    "2. Numpy\n",
    "3. Pandas\n",
    "4. ggplot"
   ]
  },
  {
   "cell_type": "markdown",
   "id": "a2b02560-0b87-4f51-8b15-5df07d7776d9",
   "metadata": {},
   "source": [
    "|Data Science Tools|\n",
    "|-------------------|\n",
    "|Jupyter (Notebook, Labs)|\n",
    "|R Studio|\n",
    "|Apache Zeppellin|"
   ]
  },
  {
   "cell_type": "markdown",
   "id": "af54fd4b-46c0-471f-acbf-b5fcb1e4f9a6",
   "metadata": {},
   "source": [
    "### Below are a few examples of evaluating arithmetic expressions in Python"
   ]
  },
  {
   "cell_type": "code",
   "execution_count": 8,
   "id": "e1b0364b-95d2-42de-a666-c7a0ed567e21",
   "metadata": {},
   "outputs": [
    {
     "data": {
      "text/plain": [
       "17"
      ]
     },
     "execution_count": 8,
     "metadata": {},
     "output_type": "execute_result"
    }
   ],
   "source": [
    "# This is a simple arithmetic expression to multiply then add integers\n",
    "(3*4)+5"
   ]
  },
  {
   "cell_type": "code",
   "execution_count": 7,
   "id": "294a7c5e-8542-4319-b8a9-4d2abac137c3",
   "metadata": {},
   "outputs": [
    {
     "data": {
      "text/plain": [
       "3.3333333333333335"
      ]
     },
     "execution_count": 7,
     "metadata": {},
     "output_type": "execute_result"
    }
   ],
   "source": [
    "# This will convert 200 minutes to hours by diving by 60\n",
    "200/60"
   ]
  },
  {
   "cell_type": "markdown",
   "id": "d6187ffa-7232-43b2-a0a8-c406f2408b9c",
   "metadata": {},
   "source": [
    "## Author\n",
    "Ronny Hoffmann"
   ]
  }
 ],
 "metadata": {
  "kernelspec": {
   "display_name": "Python 3 (ipykernel)",
   "language": "python",
   "name": "python3"
  },
  "language_info": {
   "codemirror_mode": {
    "name": "ipython",
    "version": 3
   },
   "file_extension": ".py",
   "mimetype": "text/x-python",
   "name": "python",
   "nbconvert_exporter": "python",
   "pygments_lexer": "ipython3",
   "version": "3.12.8"
  }
 },
 "nbformat": 4,
 "nbformat_minor": 5
}
